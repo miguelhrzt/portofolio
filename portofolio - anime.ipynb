{
 "cells": [
  {
   "cell_type": "code",
   "execution_count": 33,
   "outputs": [],
   "source": [
    "import pandas as pd\n",
    "import sqlite3"
   ],
   "metadata": {
    "collapsed": false,
    "ExecuteTime": {
     "end_time": "2023-09-03T08:05:15.110533Z",
     "start_time": "2023-09-03T08:05:15.088797900Z"
    }
   },
   "id": "57f591be4b8ea975"
  },
  {
   "cell_type": "code",
   "execution_count": 25,
   "outputs": [
    {
     "name": "stdout",
     "output_type": "stream",
     "text": [
      "<class 'pandas.core.frame.DataFrame'>\n",
      "RangeIndex: 24985 entries, 0 to 24984\n",
      "Data columns (total 39 columns):\n",
      " #   Column            Non-Null Count  Dtype  \n",
      "---  ------            --------------  -----  \n",
      " 0   anime_id          24985 non-null  int64  \n",
      " 1   title             24985 non-null  object \n",
      " 2   type              24927 non-null  object \n",
      " 3   score             16050 non-null  float64\n",
      " 4   scored_by         24985 non-null  int64  \n",
      " 5   status            24985 non-null  object \n",
      " 6   episodes          24438 non-null  float64\n",
      " 7   start_date        24110 non-null  object \n",
      " 8   end_date          22215 non-null  object \n",
      " 9   source            21424 non-null  object \n",
      " 10  members           24985 non-null  int64  \n",
      " 11  favorites         24985 non-null  int64  \n",
      " 12  episode_duration  24387 non-null  object \n",
      " 13  total_duration    24162 non-null  object \n",
      " 14  rating            24405 non-null  object \n",
      " 15  sfw               24985 non-null  bool   \n",
      " 16  approved          24985 non-null  bool   \n",
      " 17  created_at        24985 non-null  object \n",
      " 18  updated_at        24985 non-null  object \n",
      " 19  start_year        20301 non-null  float64\n",
      " 20  start_season      20301 non-null  object \n",
      " 21  real_start_date   24110 non-null  object \n",
      " 22  real_end_date     22215 non-null  object \n",
      " 23  broadcast_day     3450 non-null   object \n",
      " 24  broadcast_time    3313 non-null   object \n",
      " 25  genres            24985 non-null  object \n",
      " 26  themes            24985 non-null  object \n",
      " 27  demographics      24985 non-null  object \n",
      " 28  studios           24985 non-null  object \n",
      " 29  producers         24985 non-null  object \n",
      " 30  licensors         24985 non-null  object \n",
      " 31  synopsis          20492 non-null  object \n",
      " 32  background        2450 non-null   object \n",
      " 33  main_picture      24831 non-null  object \n",
      " 34  url               24985 non-null  object \n",
      " 35  trailer_url       4724 non-null   object \n",
      " 36  title_english     10402 non-null  object \n",
      " 37  title_japanese    24895 non-null  object \n",
      " 38  title_synonyms    24985 non-null  object \n",
      "dtypes: bool(2), float64(3), int64(4), object(30)\n",
      "memory usage: 7.1+ MB\n"
     ]
    }
   ],
   "source": [
    "report = pd.read_csv(\n",
    "\"Source/anime.csv\"\n",
    ")\n",
    "\n",
    "report.info()"
   ],
   "metadata": {
    "collapsed": false,
    "ExecuteTime": {
     "end_time": "2023-09-03T07:39:10.197569700Z",
     "start_time": "2023-09-03T07:39:09.678227200Z"
    }
   },
   "id": "4550a8b85300a1da"
  },
  {
   "cell_type": "code",
   "execution_count": 26,
   "outputs": [],
   "source": [
    "report = report.drop('title_japanese',axis=1)\n",
    "report = report.drop('main_picture', axis=1)\n",
    "report = report.drop('url', axis=1)\n",
    "report = report.drop('title_synonyms', axis=1)\n",
    "report = report.drop('created_at', axis=1)\n",
    "report = report.drop('synopsis', axis=1)\n",
    "report = report.drop('background', axis=1)\n",
    "report = report.drop('approved', axis=1)"
   ],
   "metadata": {
    "collapsed": false,
    "ExecuteTime": {
     "end_time": "2023-09-03T07:39:11.329918100Z",
     "start_time": "2023-09-03T07:39:11.239225800Z"
    }
   },
   "id": "9fe5f7443dfd1d6f"
  },
  {
   "cell_type": "code",
   "execution_count": 27,
   "outputs": [
    {
     "name": "stdout",
     "output_type": "stream",
     "text": [
      "<class 'pandas.core.frame.DataFrame'>\n",
      "RangeIndex: 24985 entries, 0 to 24984\n",
      "Data columns (total 31 columns):\n",
      " #   Column            Non-Null Count  Dtype              \n",
      "---  ------            --------------  -----              \n",
      " 0   anime_id          24985 non-null  int64              \n",
      " 1   title             24985 non-null  object             \n",
      " 2   type              24927 non-null  object             \n",
      " 3   score             16050 non-null  float64            \n",
      " 4   scored_by         24985 non-null  int64              \n",
      " 5   status            24985 non-null  object             \n",
      " 6   episodes          24438 non-null  float64            \n",
      " 7   start_date        24110 non-null  datetime64[ns]     \n",
      " 8   end_date          22215 non-null  datetime64[ns]     \n",
      " 9   source            21424 non-null  object             \n",
      " 10  members           24985 non-null  int64              \n",
      " 11  favorites         24985 non-null  int64              \n",
      " 12  episode_duration  24387 non-null  float64            \n",
      " 13  total_duration    24162 non-null  object             \n",
      " 14  rating            24405 non-null  object             \n",
      " 15  sfw               24985 non-null  bool               \n",
      " 16  updated_at        24985 non-null  datetime64[ns, UTC]\n",
      " 17  start_year        20301 non-null  float64            \n",
      " 18  start_season      20301 non-null  object             \n",
      " 19  real_start_date   24110 non-null  datetime64[ns]     \n",
      " 20  real_end_date     22215 non-null  datetime64[ns]     \n",
      " 21  broadcast_day     3450 non-null   object             \n",
      " 22  broadcast_time    3313 non-null   object             \n",
      " 23  genres            24985 non-null  object             \n",
      " 24  themes            24985 non-null  object             \n",
      " 25  demographics      24985 non-null  object             \n",
      " 26  studios           24985 non-null  object             \n",
      " 27  producers         24985 non-null  object             \n",
      " 28  licensors         24985 non-null  object             \n",
      " 29  trailer_url       4724 non-null   object             \n",
      " 30  title_english     10402 non-null  object             \n",
      "dtypes: bool(1), datetime64[ns, UTC](1), datetime64[ns](4), float64(4), int64(4), object(17)\n",
      "memory usage: 5.7+ MB\n"
     ]
    },
    {
     "name": "stderr",
     "output_type": "stream",
     "text": [
      "C:\\Users\\USER\\AppData\\Local\\Temp\\ipykernel_19964\\3838598650.py:7: UserWarning: Could not infer format, so each element will be parsed individually, falling back to `dateutil`. To ensure parsing is consistent and as-expected, please specify a format.\n",
      "  report['broadcast_time'] = pd.to_datetime(report['broadcast_time'])\n"
     ]
    }
   ],
   "source": [
    "report['start_date'] = pd.to_datetime(report['start_date'])\n",
    "report['end_date'] = pd.to_datetime(report['end_date'])\n",
    "report['updated_at'] = pd.to_datetime(report['updated_at'])\n",
    "report['start_year'] = pd.to_datetime(report['start_year']).dt.year\n",
    "report['real_start_date'] = pd.to_datetime(report['real_start_date'], format='mixed')\n",
    "report['real_end_date'] = pd.to_datetime(report['real_end_date'], format='mixed')\n",
    "report['broadcast_time'] = pd.to_datetime(report['broadcast_time'])\n",
    "report['broadcast_time'] = report['broadcast_time'].dt.time\n",
    "report['episode_duration'] = pd.to_timedelta(report['episode_duration'])\n",
    "report['episode_duration'] = report['episode_duration'].dt.total_seconds()/60\n",
    "\n",
    "report.info()"
   ],
   "metadata": {
    "collapsed": false,
    "ExecuteTime": {
     "end_time": "2023-09-03T07:39:12.609535900Z",
     "start_time": "2023-09-03T07:39:12.277019900Z"
    }
   },
   "id": "986b13a64af5b86f"
  },
  {
   "cell_type": "code",
   "execution_count": 39,
   "outputs": [],
   "source": [
    "report.to_csv('Prod/anime_final.csv', index=False)"
   ],
   "metadata": {
    "collapsed": false,
    "ExecuteTime": {
     "end_time": "2023-09-03T08:10:27.346524Z",
     "start_time": "2023-09-03T08:10:26.044546Z"
    }
   },
   "id": "c9959b9cbf920d3"
  },
  {
   "cell_type": "code",
   "execution_count": null,
   "outputs": [],
   "source": [],
   "metadata": {
    "collapsed": false
   },
   "id": "916b44f5d965d559"
  }
 ],
 "metadata": {
  "kernelspec": {
   "display_name": "Python 3",
   "language": "python",
   "name": "python3"
  },
  "language_info": {
   "codemirror_mode": {
    "name": "ipython",
    "version": 2
   },
   "file_extension": ".py",
   "mimetype": "text/x-python",
   "name": "python",
   "nbconvert_exporter": "python",
   "pygments_lexer": "ipython2",
   "version": "2.7.6"
  }
 },
 "nbformat": 4,
 "nbformat_minor": 5
}
